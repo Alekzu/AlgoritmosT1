{
 "metadata": {
  "name": "",
  "signature": "sha256:464fed443efe4afc5917c57429d1a200d696f3ea46513f0a194e5b67ed804534"
 },
 "nbformat": 3,
 "nbformat_minor": 0,
 "worksheets": [
  {
   "cells": [
    {
     "cell_type": "code",
     "collapsed": false,
     "input": [
      "import time\n",
      "import matplotlib.pyplot as plt\n",
      "\n",
      "def fibo(n):\n",
      "    a, b = 0, 1\n",
      "    for i in range(0, n):\n",
      "        a, b = b, a + b\n",
      "    return a\n",
      "\n",
      "itera = []\n",
      "\n",
      "for i in range(0,40):\n",
      "    start_time = time.time()\n",
      "    fibo(i)\n",
      "    itera.append((time.time() - start_time))\n",
      "\n",
      "\n",
      "\n",
      "plt.plot(itera[0:40])\n",
      "plt.xlabel('n')\n",
      "plt.ylabel('Tiempo')\n",
      "plt.legend(['Iterativo'])\n",
      "plt.show()"
     ],
     "language": "python",
     "metadata": {},
     "outputs": []
    },
    {
     "cell_type": "code",
     "collapsed": false,
     "input": [],
     "language": "python",
     "metadata": {},
     "outputs": []
    }
   ],
   "metadata": {}
  }
 ]
}