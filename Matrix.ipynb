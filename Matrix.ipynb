{
 "metadata": {
  "name": "",
  "signature": "sha256:ef8adff1b52657afb7b58eac128e0208f167da8faa4010b9d68f10e3f7ac268c"
 },
 "nbformat": 3,
 "nbformat_minor": 0,
 "worksheets": [
  {
   "cells": [
    {
     "cell_type": "code",
     "collapsed": false,
     "input": [
      "import time\n",
      "import matplotlib.pyplot as plt\n",
      "import numpy as np\n",
      "\n",
      "def multi(n):\n",
      "    A = [[1 for x in range(n)] for x in range(n)]\n",
      "    B = [[2 for x in range(n)] for x in range(n)]\n",
      "    C = [[0 for x in range(n)] for x in range(n)]\n",
      "    oper = 0;\n",
      "    \n",
      "    for i in range(0,n):\n",
      "        \n",
      "        for j in range(0,n):\n",
      "            for k in range(0,n):\n",
      "                s_oper = time.time()\n",
      "                C[i][j]=C[i][j]+A[i][k]*B[k][j]\n",
      "                oper = oper + (time.time() - s_oper)\n",
      "    return oper/n\n",
      "\n",
      "prom = []\n",
      "for z in range(1,50):\n",
      "    prom.append(multi(z))\n",
      "    \n",
      "plt.plot(prom)\n",
      "plt.xlabel('n')\n",
      "plt.ylabel('Tiempo')\n",
      "plt.legend(['Sum-Multi'])\n",
      "plt.show()"
     ],
     "language": "python",
     "metadata": {},
     "outputs": []
    },
    {
     "cell_type": "code",
     "collapsed": false,
     "input": [
      "import time\n",
      "import matplotlib.pyplot as plt\n",
      "import numpy as np\n",
      "\n",
      "def multi(n):\n",
      "    A = [[1 for x in range(n)] for x in range(n)]\n",
      "    B = [[2 for x in range(n)] for x in range(n)]\n",
      "    C = [[0 for x in range(n)] for x in range(n)]\n",
      "    oper = 0;\n",
      "    \n",
      "    for i in range(0,n):\n",
      "        \n",
      "        for j in range(0,n):\n",
      "            for k in range(0,n):\n",
      "                s_oper = time.time()\n",
      "                C[i][j]=C[i][j]+A[i][k]*B[k][j]\n",
      "                oper = oper + (time.time() - s_oper)\n",
      "    return oper/n\n",
      "\n",
      "prom = []\n",
      "for z in range(1,20):\n",
      "    prom.append(multi(z))\n",
      "    \n",
      "plt.plot(prom)\n",
      "plt.xlabel('n')\n",
      "plt.ylabel('Tiempo')\n",
      "plt.legend(['Sum-Multi'])\n",
      "plt.show()"
     ],
     "language": "python",
     "metadata": {},
     "outputs": []
    },
    {
     "cell_type": "code",
     "collapsed": false,
     "input": [],
     "language": "python",
     "metadata": {},
     "outputs": []
    }
   ],
   "metadata": {}
  }
 ]
}