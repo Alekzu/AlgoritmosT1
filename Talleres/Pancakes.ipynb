{
 "cells": [
  {
   "cell_type": "code",
   "execution_count": 49,
   "metadata": {},
   "outputs": [],
   "source": [
    "import itertools\n"
   ]
  },
  {
   "cell_type": "code",
   "execution_count": 47,
   "metadata": {},
   "outputs": [],
   "source": [
    "def espatula(pancakes,pos):\n",
    "        tPancakes = pancakes[0:pos+1]\n",
    "        tPancakes.reverse()\n",
    "        bPancakes = pancakes[pos+1:]\n",
    "        return tPancakes+bPancakes\n",
    " \n",
    "def ordenar(pancakes):\n",
    "        largo = len(pancakes)\n",
    "        flips = [[0 for x in range(largo)] for y in range(1)]\n",
    "        flips[0] = pancakes\n",
    "        pasos = 0\n",
    "        while largo != 1:\n",
    "                if(largo != (pancakes.index(largo)+1)):\n",
    "                        #si el siguiente pancake mas grande no esta del todo arriba, hacer un flip para ponerlo arriba\n",
    "                        if(cakes.index(largo)!= 0):\n",
    "                                pancakes = espatula(pancakes, pancakes.index(largo))\n",
    "                                pasos += 1\n",
    "                                flips.append(pancakes)\n",
    " \n",
    "                        #cuando el pancake mas grande esta del todo arriba, hacer flip para dejarlo abajo\n",
    "                        pancakes = espatula(pancakes,largo -1)\n",
    "                        pasos += 1\n",
    "                        largo -= 1\n",
    "                        flips.append(pancakes)\n",
    "                else:\n",
    "                        largo -= 1\n",
    "        return pasos, flips"
   ]
  },
  {
   "cell_type": "code",
   "execution_count": 51,
   "metadata": {},
   "outputs": [],
   "source": [
    "def peorCaso(n,c):\n",
    "    lista = []\n",
    "    for i in range(n):\n",
    "        lista.append(i+1)\n",
    "    permu = list(itertools.permutations(lista))\n",
    "    pn = 0\n",
    "    fliper = []\n",
    "    for j in range(len(permu)):\n",
    "        temp, flip = arrangeCakes(list(permu[j]))\n",
    "        if temp > pn:\n",
    "            pn = temp\n",
    "            fliper = flip\n",
    "    if c == 0:\n",
    "        print(pn)\n",
    "    elif c == 1:\n",
    "        print(pn)\n",
    "        for j in range(len(permu)):\n",
    "            temp, flip = arrangeCakes(list(permu[j]))\n",
    "            if temp == pn:\n",
    "                print(flip)\n",
    "    else:\n",
    "        print(pn)\n",
    "    "
   ]
  },
  {
   "cell_type": "code",
   "execution_count": 50,
   "metadata": {},
   "outputs": [
    {
     "name": "stdout",
     "output_type": "stream",
     "text": [
      "5\n",
      "[[2, 4, 3, 1], [4, 2, 3, 1], [1, 3, 2, 4], [3, 1, 2, 4], [2, 1, 3, 4], [1, 2, 3, 4]]\n",
      "[[3, 2, 4, 1], [4, 2, 3, 1], [1, 3, 2, 4], [3, 1, 2, 4], [2, 1, 3, 4], [1, 2, 3, 4]]\n"
     ]
    }
   ],
   "source": [
    "peorCaso(4,1)"
   ]
  },
  {
   "cell_type": "code",
   "execution_count": null,
   "metadata": {},
   "outputs": [],
   "source": []
  }
 ],
 "metadata": {
  "kernelspec": {
   "display_name": "Python 3",
   "language": "python",
   "name": "python3"
  },
  "language_info": {
   "codemirror_mode": {
    "name": "ipython",
    "version": 3
   },
   "file_extension": ".py",
   "mimetype": "text/x-python",
   "name": "python",
   "nbconvert_exporter": "python",
   "pygments_lexer": "ipython3",
   "version": "3.6.4"
  }
 },
 "nbformat": 4,
 "nbformat_minor": 2
}
