{
 "cells": [
  {
   "cell_type": "markdown",
   "metadata": {},
   "source": [
    "Taller 3\n",
    "\n",
    "1- Para los 3 grafos, calcule (por inspecci ́on) la longitud los caminos m ́as cortos desde el nodo 0 hacia el resto de nodos.\n",
    "\n",
    "a) [0,1]= 5 [0,2]= 3 [0,3]= 6 [0,4]= 9 \n",
    "b) [0,1]= 5 [0,2]= 3 [0,3]= 6 [0,4]= 9 \n",
    "c) [0,1]= 2 [0,2]= 1 [0,3]= 5 [0,4]= 7\n",
    "\n",
    "2- Para el grafo b, >puede encontrar un camino desde 0 a 1 de costo 0? Explique.!\n",
    "Se puede ya que el loop [2,1,3] tiene costo negativo, si se realizan varios loops se puede reducir el costo hasta llegar a 0\n",
    "\n",
    "3- Aplique Bellman Ford a los grafos\n",
    "\n",
    "Grafo a)"
   ]
  },
  {
   "cell_type": "markdown",
   "metadata": {},
   "source": [
    "Source:\n",
    "https://github.com/prakhar1989/Algorithms/blob/master/dp/bellman_ford.py\n",
    "http://www.programming-algorithms.net/article/47389/Bellman-Ford-algorithm"
   ]
  },
  {
   "cell_type": "code",
   "execution_count": 1,
   "metadata": {},
   "outputs": [
    {
     "name": "stdout",
     "output_type": "stream",
     "text": [
      "{'0': 0, '1': 5, '2': 3, '3': 6, '4': 8}\n",
      "{'0': inf, '1': 0, '2': 5, '3': 1, '4': 3}\n",
      "{'0': inf, '1': 2, '2': 0, '3': 3, '4': 5}\n",
      "{'0': inf, '1': 6, '2': 4, '3': 0, '4': 2}\n",
      "{'0': inf, '1': inf, '2': inf, '3': inf, '4': 0}\n"
     ]
    }
   ],
   "source": [
    "G = {\n",
    "    '0' : {'1': 9, '2': 3},\n",
    "    '1' : {'3':1},\n",
    "    '2': {'1': 2, '3': 6, '4': 6 },\n",
    "    '3': {'2': 4, '4': 2},\n",
    "    '4': {},\n",
    "    \n",
    "\n",
    "}\n",
    "\n",
    "inf = float(\"inf\")\n",
    "\n",
    "dist = {}\n",
    "predecessor = {}\n",
    "\n",
    "def initialize_single_source(graph, start):\n",
    "    for v in graph:\n",
    "        dist[v] = inf\n",
    "        predecessor[v] = None\n",
    "    dist[start] = 0\n",
    "\n",
    "def relax(graph, u, v):\n",
    "    if dist[v] > dist[u] + graph[u][v]:\n",
    "        dist[v] = dist[u] + graph[u][v]\n",
    "        predecessor[v] = u\n",
    "\n",
    "def bellman_ford(graph, start):\n",
    "    initialize_single_source(graph, start)\n",
    "    n = len(graph)\n",
    "    edges = [(u, v) for u in graph for v in graph[u].keys()]\n",
    "\n",
    "    for i in range(n-1):\n",
    "        for (u,v) in edges:\n",
    "            relax(graph, u, v)\n",
    "    for (u,v) in edges:\n",
    "        if dist[v] > dist[u] + graph[u][v]:\n",
    "            return False # there exists a negative cycle\n",
    "    return True\n",
    "\n",
    "def get_distances(graph, start):\n",
    "    if bellman_ford(graph, start):\n",
    "        return dist\n",
    "    return \"Graph contains a negative cycle\"\n",
    "print(get_distances(G, '0'))\n",
    "print(get_distances(G, '1'))\n",
    "print(get_distances(G, '2'))\n",
    "print(get_distances(G, '3'))\n",
    "print(get_distances(G, '4'))"
   ]
  },
  {
   "cell_type": "markdown",
   "metadata": {},
   "source": [
    "Grafo B"
   ]
  },
  {
   "cell_type": "code",
   "execution_count": 2,
   "metadata": {},
   "outputs": [
    {
     "name": "stdout",
     "output_type": "stream",
     "text": [
      "Graph contains a negative cycle\n",
      "Graph contains a negative cycle\n",
      "Graph contains a negative cycle\n",
      "Graph contains a negative cycle\n",
      "{'0': inf, '1': inf, '2': inf, '3': inf, '4': 0}\n"
     ]
    }
   ],
   "source": [
    "G = {\n",
    "    '0' : {'1': 9, '2': 3},\n",
    "    '1' : {'3':1},\n",
    "    '2': {'1': 2, '3': 6, '4': 6 },\n",
    "    '3': {'2': -4, '4': 2},\n",
    "    '4': {},\n",
    "    \n",
    "\n",
    "}\n",
    "\n",
    "inf = float(\"inf\")\n",
    "\n",
    "dist = {}\n",
    "predecessor = {}\n",
    "\n",
    "def initialize_single_source(graph, start):\n",
    "    for v in graph:\n",
    "        dist[v] = inf\n",
    "        predecessor[v] = None\n",
    "    dist[start] = 0\n",
    "\n",
    "def relax(graph, u, v):\n",
    "    if dist[v] > dist[u] + graph[u][v]:\n",
    "        dist[v] = dist[u] + graph[u][v]\n",
    "        predecessor[v] = u\n",
    "\n",
    "def bellman_ford(graph, start):\n",
    "    initialize_single_source(graph, start)\n",
    "    n = len(graph)\n",
    "    edges = [(u, v) for u in graph for v in graph[u].keys()]\n",
    "\n",
    "    for i in range(n-1):\n",
    "        for (u,v) in edges:\n",
    "            relax(graph, u, v)\n",
    "    for (u,v) in edges:\n",
    "        if dist[v] > dist[u] + graph[u][v]:\n",
    "            return False # there exists a negative cycle\n",
    "    return True\n",
    "\n",
    "def get_distances(graph, start):\n",
    "    if bellman_ford(graph, start):\n",
    "        return dist\n",
    "    return \"Graph contains a negative cycle\"\n",
    "print(get_distances(G, '0'))\n",
    "print(get_distances(G, '1'))\n",
    "print(get_distances(G, '2'))\n",
    "print(get_distances(G, '3'))\n",
    "print(get_distances(G, '4'))"
   ]
  },
  {
   "cell_type": "markdown",
   "metadata": {},
   "source": [
    "Grafo C"
   ]
  },
  {
   "cell_type": "code",
   "execution_count": 3,
   "metadata": {},
   "outputs": [
    {
     "name": "stdout",
     "output_type": "stream",
     "text": [
      "{'0': 0, '1': 2, '2': 1, '3': 5, '4': 7}\n",
      "{'0': inf, '1': 0, '2': -1, '3': 3, '4': 5}\n",
      "{'0': inf, '1': 2, '2': 0, '3': 5, '4': 6}\n",
      "{'0': inf, '1': -2, '2': -4, '3': 0, '4': 2}\n",
      "{'0': inf, '1': inf, '2': inf, '3': inf, '4': 0}\n"
     ]
    }
   ],
   "source": [
    "G = {\n",
    "    '0' : {'1': 2, '2': 8},\n",
    "    '1' : {'3':3},\n",
    "    '2': {'1': 2, '3': 6, '4': 6 },\n",
    "    '3': {'2': -4, '4': 2},\n",
    "    '4': {},\n",
    "    \n",
    "\n",
    "}\n",
    "\n",
    "inf = float(\"inf\")\n",
    "\n",
    "dist = {}\n",
    "predecessor = {}\n",
    "\n",
    "def initialize_single_source(graph, start):\n",
    "    for v in graph:\n",
    "        dist[v] = inf\n",
    "        predecessor[v] = None\n",
    "    dist[start] = 0\n",
    "\n",
    "def relax(graph, u, v):\n",
    "    if dist[v] > dist[u] + graph[u][v]:\n",
    "        dist[v] = dist[u] + graph[u][v]\n",
    "        predecessor[v] = u\n",
    "\n",
    "def bellman_ford(graph, start):\n",
    "    initialize_single_source(graph, start)\n",
    "    n = len(graph)\n",
    "    edges = [(u, v) for u in graph for v in graph[u].keys()]\n",
    "\n",
    "    for i in range(n-1):\n",
    "        for (u,v) in edges:\n",
    "            relax(graph, u, v)\n",
    "            \n",
    "    for (u,v) in edges:\n",
    "        if dist[v] > dist[u] + graph[u][v]:\n",
    "            return False # there exists a negative cycle\n",
    "    return True\n",
    "\n",
    "def get_distances(graph, start):\n",
    "    if bellman_ford(graph, start):\n",
    "        return dist\n",
    "    return \"Graph contains a negative cycle\"\n",
    "print(get_distances(G, '0'))\n",
    "print(get_distances(G, '1'))\n",
    "print(get_distances(G, '2'))\n",
    "print(get_distances(G, '3'))\n",
    "print(get_distances(G, '4'))"
   ]
  },
  {
   "cell_type": "markdown",
   "metadata": {},
   "source": [
    "4- ¿Que pasó con el grafo b? \n",
    "\n",
    "Debido al ciclo negativo, no muestra la menor distancia, en la practica corresponde a una distancia infinita\n",
    "\n",
    "5-Llamadas a la función Relax\n",
    "\n",
    "32\n",
    "\n",
    "6- Para los grafos a y c muestre una secuencia de llamadas a Relax mas eficiente.\n",
    "\n",
    "\n",
    "Se puede mejorar la cantidad de veces que se hace relax si se paran las iteraciones de cada nodo cuando no se hacen cambios en la tabla tras una iteracón"
   ]
  }
 ],
 "metadata": {
  "kernelspec": {
   "display_name": "Python 3",
   "language": "python",
   "name": "python3"
  },
  "language_info": {
   "codemirror_mode": {
    "name": "ipython",
    "version": 3
   },
   "file_extension": ".py",
   "mimetype": "text/x-python",
   "name": "python",
   "nbconvert_exporter": "python",
   "pygments_lexer": "ipython3",
   "version": "3.6.4"
  }
 },
 "nbformat": 4,
 "nbformat_minor": 2
}
