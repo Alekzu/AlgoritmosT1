{
 "metadata": {
  "name": "",
  "signature": "sha256:372a893555e8f761ded8e4d983d783b2f2d7632f6669aaaacad6823bfd3a0453"
 },
 "nbformat": 3,
 "nbformat_minor": 0,
 "worksheets": [
  {
   "cells": [
    {
     "cell_type": "code",
     "collapsed": false,
     "input": [
      "import matplotlib.pyplot as plt\n",
      "import time\n",
      "\n",
      "def fibonacci(n):\n",
      "    if n == 0:\n",
      "        return 0\n",
      "    elif n == 1:\n",
      "        return 1\n",
      "    else:\n",
      "        return fibonacci(n-1)+fibonacci(n-2)\n",
      "tiempo = []\n",
      "for i in range(0,30):\n",
      "    start_time = time.time()\n",
      "    fibonacci(i)\n",
      "    tiempo.append((time.time() - start_time))\n",
      "num = range(0,30)\n",
      "#plt.plot(num);\n",
      "plt.plot(tiempo);\n",
      "plt.xlabel('n') # The data we generated is unitless, but don't forget units in general.\n",
      "plt.ylabel('Tiempo')\n",
      "plt.legend(['n', 't']);\n",
      "\n"
     ],
     "language": "python",
     "metadata": {},
     "outputs": [],
     "prompt_number": 1
    },
    {
     "cell_type": "code",
     "collapsed": false,
     "input": [],
     "language": "python",
     "metadata": {},
     "outputs": []
    }
   ],
   "metadata": {}
  }
 ]
}